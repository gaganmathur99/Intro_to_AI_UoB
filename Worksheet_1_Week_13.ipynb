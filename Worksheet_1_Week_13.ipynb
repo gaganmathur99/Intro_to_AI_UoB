{
  "cells": [
    {
      "cell_type": "markdown",
      "metadata": {
        "id": "view-in-github",
        "colab_type": "text"
      },
      "source": [
        "<a href=\"https://colab.research.google.com/github/gaganmathur99/Intro_to_AI_UoB/blob/main/Worksheet_1_Week_13.ipynb\" target=\"_parent\"><img src=\"https://colab.research.google.com/assets/colab-badge.svg\" alt=\"Open In Colab\"/></a>"
      ]
    },
    {
      "cell_type": "markdown",
      "metadata": {
        "id": "TlttMffDWdos"
      },
      "source": [
        "# Introduction\n",
        "This worksheet covers material from week 13. You will write functions to implement evaluation metrics for classification and regression problems, and run cross-validation. You will:\n",
        " - Use library functions from scikit-learn (https://scikit-learn.org/stable/)\n",
        " - Use NumPy and matplotlib\n",
        " - Write and call functions in Python\n",
        " - Gain understanding of the evaluation metrics used.\n",
        "\n",
        "\n",
        "Scikit-learn (https://scikit-learn.org/stable/) is a Python library with a wide range of ML algorithms. We will be using some of these algorithms during this course, but we will also be looking at the principles behind the algorithms in order to understand these rather than simply applying functions from libraries.\n",
        "\n",
        "## If you don't know Python, NumPy, matplotlib\n",
        "Please work through the Introduction to Python worksheet available on Blackboard"
      ]
    },
    {
      "cell_type": "markdown",
      "metadata": {
        "id": "nBF6yyilWdoz"
      },
      "source": [
        "# 0. Preliminaries\n",
        "We firstly import NumPy and matplotlib as we will be using these throughout the worksheet. We use a 'magic' function `%matplotlib inline` to display plots in the worksheet."
      ]
    },
    {
      "cell_type": "code",
      "execution_count": 142,
      "metadata": {
        "id": "H9F5GZx1Wdo0"
      },
      "outputs": [],
      "source": [
        "import numpy as np\n",
        "import matplotlib.pyplot as plt\n",
        "%matplotlib inline"
      ]
    },
    {
      "cell_type": "markdown",
      "metadata": {
        "id": "xPWPZuEmWdo1"
      },
      "source": [
        "# 1. Classification\n",
        "In this question you will use a toy dataset from scikit-learn. You will use functions from scikit-learn to load the data, divide it into training and testing sets, and then fit a simple classifier to the training set. You will then write functions to calculate accuracy, precision, and recall. Finally, you will check your functions against the functions from scikit-learn.\n",
        "\n",
        "## Part a) Load the data"
      ]
    },
    {
      "cell_type": "code",
      "execution_count": 143,
      "metadata": {
        "id": "Rw5wWBNvWdo2"
      },
      "outputs": [],
      "source": [
        "# scikit-learn comes with a number of toy datasets \n",
        "# (https://sklearn.org/datasets/index.html#toy-datasets)\n",
        "from sklearn import datasets\n",
        "\n",
        "# Load the wine dataset from sklearn. You may want to take a look at \n",
        "# the format of the dataset\n",
        "wine = datasets.load_wine()\n",
        "\n",
        "# Save the datapoints into the variable X and the targets into \n",
        "# the variable y\n",
        "X = wine.data\n",
        "y = wine.target"
      ]
    },
    {
      "cell_type": "markdown",
      "metadata": {
        "id": "17YF8kcZWdo2"
      },
      "source": [
        "Take a look at the target values in y. What do you notice about these? Why are these suitable for a classification algorithm rather than a regression algorithm?"
      ]
    },
    {
      "cell_type": "code",
      "execution_count": 144,
      "metadata": {
        "colab": {
          "base_uri": "https://localhost:8080/",
          "height": 423
        },
        "id": "U3-MT9IoWdo3",
        "outputId": "716bd3f0-cc0a-4e64-9349-63a64d93ee84"
      },
      "outputs": [
        {
          "output_type": "execute_result",
          "data": {
            "text/html": [
              "\n",
              "  <div id=\"df-bd4888b3-d9e3-4d89-b991-c8b72cc9a7bf\">\n",
              "    <div class=\"colab-df-container\">\n",
              "      <div>\n",
              "<style scoped>\n",
              "    .dataframe tbody tr th:only-of-type {\n",
              "        vertical-align: middle;\n",
              "    }\n",
              "\n",
              "    .dataframe tbody tr th {\n",
              "        vertical-align: top;\n",
              "    }\n",
              "\n",
              "    .dataframe thead th {\n",
              "        text-align: right;\n",
              "    }\n",
              "</style>\n",
              "<table border=\"1\" class=\"dataframe\">\n",
              "  <thead>\n",
              "    <tr style=\"text-align: right;\">\n",
              "      <th></th>\n",
              "      <th>0</th>\n",
              "      <th>1</th>\n",
              "      <th>2</th>\n",
              "      <th>3</th>\n",
              "      <th>4</th>\n",
              "      <th>5</th>\n",
              "      <th>6</th>\n",
              "      <th>7</th>\n",
              "      <th>8</th>\n",
              "      <th>9</th>\n",
              "      <th>10</th>\n",
              "      <th>11</th>\n",
              "      <th>12</th>\n",
              "      <th>output</th>\n",
              "    </tr>\n",
              "  </thead>\n",
              "  <tbody>\n",
              "    <tr>\n",
              "      <th>0</th>\n",
              "      <td>14.23</td>\n",
              "      <td>1.71</td>\n",
              "      <td>2.43</td>\n",
              "      <td>15.6</td>\n",
              "      <td>127.0</td>\n",
              "      <td>2.80</td>\n",
              "      <td>3.06</td>\n",
              "      <td>0.28</td>\n",
              "      <td>2.29</td>\n",
              "      <td>5.640000</td>\n",
              "      <td>1.04</td>\n",
              "      <td>3.92</td>\n",
              "      <td>1065.0</td>\n",
              "      <td>0</td>\n",
              "    </tr>\n",
              "    <tr>\n",
              "      <th>1</th>\n",
              "      <td>13.20</td>\n",
              "      <td>1.78</td>\n",
              "      <td>2.14</td>\n",
              "      <td>11.2</td>\n",
              "      <td>100.0</td>\n",
              "      <td>2.65</td>\n",
              "      <td>2.76</td>\n",
              "      <td>0.26</td>\n",
              "      <td>1.28</td>\n",
              "      <td>4.380000</td>\n",
              "      <td>1.05</td>\n",
              "      <td>3.40</td>\n",
              "      <td>1050.0</td>\n",
              "      <td>0</td>\n",
              "    </tr>\n",
              "    <tr>\n",
              "      <th>2</th>\n",
              "      <td>13.16</td>\n",
              "      <td>2.36</td>\n",
              "      <td>2.67</td>\n",
              "      <td>18.6</td>\n",
              "      <td>101.0</td>\n",
              "      <td>2.80</td>\n",
              "      <td>3.24</td>\n",
              "      <td>0.30</td>\n",
              "      <td>2.81</td>\n",
              "      <td>5.680000</td>\n",
              "      <td>1.03</td>\n",
              "      <td>3.17</td>\n",
              "      <td>1185.0</td>\n",
              "      <td>0</td>\n",
              "    </tr>\n",
              "    <tr>\n",
              "      <th>3</th>\n",
              "      <td>14.37</td>\n",
              "      <td>1.95</td>\n",
              "      <td>2.50</td>\n",
              "      <td>16.8</td>\n",
              "      <td>113.0</td>\n",
              "      <td>3.85</td>\n",
              "      <td>3.49</td>\n",
              "      <td>0.24</td>\n",
              "      <td>2.18</td>\n",
              "      <td>7.800000</td>\n",
              "      <td>0.86</td>\n",
              "      <td>3.45</td>\n",
              "      <td>1480.0</td>\n",
              "      <td>0</td>\n",
              "    </tr>\n",
              "    <tr>\n",
              "      <th>4</th>\n",
              "      <td>13.24</td>\n",
              "      <td>2.59</td>\n",
              "      <td>2.87</td>\n",
              "      <td>21.0</td>\n",
              "      <td>118.0</td>\n",
              "      <td>2.80</td>\n",
              "      <td>2.69</td>\n",
              "      <td>0.39</td>\n",
              "      <td>1.82</td>\n",
              "      <td>4.320000</td>\n",
              "      <td>1.04</td>\n",
              "      <td>2.93</td>\n",
              "      <td>735.0</td>\n",
              "      <td>0</td>\n",
              "    </tr>\n",
              "    <tr>\n",
              "      <th>...</th>\n",
              "      <td>...</td>\n",
              "      <td>...</td>\n",
              "      <td>...</td>\n",
              "      <td>...</td>\n",
              "      <td>...</td>\n",
              "      <td>...</td>\n",
              "      <td>...</td>\n",
              "      <td>...</td>\n",
              "      <td>...</td>\n",
              "      <td>...</td>\n",
              "      <td>...</td>\n",
              "      <td>...</td>\n",
              "      <td>...</td>\n",
              "      <td>...</td>\n",
              "    </tr>\n",
              "    <tr>\n",
              "      <th>168</th>\n",
              "      <td>13.58</td>\n",
              "      <td>2.58</td>\n",
              "      <td>2.69</td>\n",
              "      <td>24.5</td>\n",
              "      <td>105.0</td>\n",
              "      <td>1.55</td>\n",
              "      <td>0.84</td>\n",
              "      <td>0.39</td>\n",
              "      <td>1.54</td>\n",
              "      <td>8.660000</td>\n",
              "      <td>0.74</td>\n",
              "      <td>1.80</td>\n",
              "      <td>750.0</td>\n",
              "      <td>2</td>\n",
              "    </tr>\n",
              "    <tr>\n",
              "      <th>169</th>\n",
              "      <td>13.40</td>\n",
              "      <td>4.60</td>\n",
              "      <td>2.86</td>\n",
              "      <td>25.0</td>\n",
              "      <td>112.0</td>\n",
              "      <td>1.98</td>\n",
              "      <td>0.96</td>\n",
              "      <td>0.27</td>\n",
              "      <td>1.11</td>\n",
              "      <td>8.500000</td>\n",
              "      <td>0.67</td>\n",
              "      <td>1.92</td>\n",
              "      <td>630.0</td>\n",
              "      <td>2</td>\n",
              "    </tr>\n",
              "    <tr>\n",
              "      <th>170</th>\n",
              "      <td>12.20</td>\n",
              "      <td>3.03</td>\n",
              "      <td>2.32</td>\n",
              "      <td>19.0</td>\n",
              "      <td>96.0</td>\n",
              "      <td>1.25</td>\n",
              "      <td>0.49</td>\n",
              "      <td>0.40</td>\n",
              "      <td>0.73</td>\n",
              "      <td>5.500000</td>\n",
              "      <td>0.66</td>\n",
              "      <td>1.83</td>\n",
              "      <td>510.0</td>\n",
              "      <td>2</td>\n",
              "    </tr>\n",
              "    <tr>\n",
              "      <th>171</th>\n",
              "      <td>12.77</td>\n",
              "      <td>2.39</td>\n",
              "      <td>2.28</td>\n",
              "      <td>19.5</td>\n",
              "      <td>86.0</td>\n",
              "      <td>1.39</td>\n",
              "      <td>0.51</td>\n",
              "      <td>0.48</td>\n",
              "      <td>0.64</td>\n",
              "      <td>9.899999</td>\n",
              "      <td>0.57</td>\n",
              "      <td>1.63</td>\n",
              "      <td>470.0</td>\n",
              "      <td>2</td>\n",
              "    </tr>\n",
              "    <tr>\n",
              "      <th>172</th>\n",
              "      <td>14.16</td>\n",
              "      <td>2.51</td>\n",
              "      <td>2.48</td>\n",
              "      <td>20.0</td>\n",
              "      <td>91.0</td>\n",
              "      <td>1.68</td>\n",
              "      <td>0.70</td>\n",
              "      <td>0.44</td>\n",
              "      <td>1.24</td>\n",
              "      <td>9.700000</td>\n",
              "      <td>0.62</td>\n",
              "      <td>1.71</td>\n",
              "      <td>660.0</td>\n",
              "      <td>2</td>\n",
              "    </tr>\n",
              "  </tbody>\n",
              "</table>\n",
              "<p>173 rows × 14 columns</p>\n",
              "</div>\n",
              "      <button class=\"colab-df-convert\" onclick=\"convertToInteractive('df-bd4888b3-d9e3-4d89-b991-c8b72cc9a7bf')\"\n",
              "              title=\"Convert this dataframe to an interactive table.\"\n",
              "              style=\"display:none;\">\n",
              "        \n",
              "  <svg xmlns=\"http://www.w3.org/2000/svg\" height=\"24px\"viewBox=\"0 0 24 24\"\n",
              "       width=\"24px\">\n",
              "    <path d=\"M0 0h24v24H0V0z\" fill=\"none\"/>\n",
              "    <path d=\"M18.56 5.44l.94 2.06.94-2.06 2.06-.94-2.06-.94-.94-2.06-.94 2.06-2.06.94zm-11 1L8.5 8.5l.94-2.06 2.06-.94-2.06-.94L8.5 2.5l-.94 2.06-2.06.94zm10 10l.94 2.06.94-2.06 2.06-.94-2.06-.94-.94-2.06-.94 2.06-2.06.94z\"/><path d=\"M17.41 7.96l-1.37-1.37c-.4-.4-.92-.59-1.43-.59-.52 0-1.04.2-1.43.59L10.3 9.45l-7.72 7.72c-.78.78-.78 2.05 0 2.83L4 21.41c.39.39.9.59 1.41.59.51 0 1.02-.2 1.41-.59l7.78-7.78 2.81-2.81c.8-.78.8-2.07 0-2.86zM5.41 20L4 18.59l7.72-7.72 1.47 1.35L5.41 20z\"/>\n",
              "  </svg>\n",
              "      </button>\n",
              "      \n",
              "  <style>\n",
              "    .colab-df-container {\n",
              "      display:flex;\n",
              "      flex-wrap:wrap;\n",
              "      gap: 12px;\n",
              "    }\n",
              "\n",
              "    .colab-df-convert {\n",
              "      background-color: #E8F0FE;\n",
              "      border: none;\n",
              "      border-radius: 50%;\n",
              "      cursor: pointer;\n",
              "      display: none;\n",
              "      fill: #1967D2;\n",
              "      height: 32px;\n",
              "      padding: 0 0 0 0;\n",
              "      width: 32px;\n",
              "    }\n",
              "\n",
              "    .colab-df-convert:hover {\n",
              "      background-color: #E2EBFA;\n",
              "      box-shadow: 0px 1px 2px rgba(60, 64, 67, 0.3), 0px 1px 3px 1px rgba(60, 64, 67, 0.15);\n",
              "      fill: #174EA6;\n",
              "    }\n",
              "\n",
              "    [theme=dark] .colab-df-convert {\n",
              "      background-color: #3B4455;\n",
              "      fill: #D2E3FC;\n",
              "    }\n",
              "\n",
              "    [theme=dark] .colab-df-convert:hover {\n",
              "      background-color: #434B5C;\n",
              "      box-shadow: 0px 1px 3px 1px rgba(0, 0, 0, 0.15);\n",
              "      filter: drop-shadow(0px 1px 2px rgba(0, 0, 0, 0.3));\n",
              "      fill: #FFFFFF;\n",
              "    }\n",
              "  </style>\n",
              "\n",
              "      <script>\n",
              "        const buttonEl =\n",
              "          document.querySelector('#df-bd4888b3-d9e3-4d89-b991-c8b72cc9a7bf button.colab-df-convert');\n",
              "        buttonEl.style.display =\n",
              "          google.colab.kernel.accessAllowed ? 'block' : 'none';\n",
              "\n",
              "        async function convertToInteractive(key) {\n",
              "          const element = document.querySelector('#df-bd4888b3-d9e3-4d89-b991-c8b72cc9a7bf');\n",
              "          const dataTable =\n",
              "            await google.colab.kernel.invokeFunction('convertToInteractive',\n",
              "                                                     [key], {});\n",
              "          if (!dataTable) return;\n",
              "\n",
              "          const docLinkHtml = 'Like what you see? Visit the ' +\n",
              "            '<a target=\"_blank\" href=https://colab.research.google.com/notebooks/data_table.ipynb>data table notebook</a>'\n",
              "            + ' to learn more about interactive tables.';\n",
              "          element.innerHTML = '';\n",
              "          dataTable['output_type'] = 'display_data';\n",
              "          await google.colab.output.renderOutput(dataTable, element);\n",
              "          const docLink = document.createElement('div');\n",
              "          docLink.innerHTML = docLinkHtml;\n",
              "          element.appendChild(docLink);\n",
              "        }\n",
              "      </script>\n",
              "    </div>\n",
              "  </div>\n",
              "  "
            ],
            "text/plain": [
              "         0     1     2     3      4  ...         9    10    11      12  output\n",
              "0    14.23  1.71  2.43  15.6  127.0  ...  5.640000  1.04  3.92  1065.0       0\n",
              "1    13.20  1.78  2.14  11.2  100.0  ...  4.380000  1.05  3.40  1050.0       0\n",
              "2    13.16  2.36  2.67  18.6  101.0  ...  5.680000  1.03  3.17  1185.0       0\n",
              "3    14.37  1.95  2.50  16.8  113.0  ...  7.800000  0.86  3.45  1480.0       0\n",
              "4    13.24  2.59  2.87  21.0  118.0  ...  4.320000  1.04  2.93   735.0       0\n",
              "..     ...   ...   ...   ...    ...  ...       ...   ...   ...     ...     ...\n",
              "168  13.58  2.58  2.69  24.5  105.0  ...  8.660000  0.74  1.80   750.0       2\n",
              "169  13.40  4.60  2.86  25.0  112.0  ...  8.500000  0.67  1.92   630.0       2\n",
              "170  12.20  3.03  2.32  19.0   96.0  ...  5.500000  0.66  1.83   510.0       2\n",
              "171  12.77  2.39  2.28  19.5   86.0  ...  9.899999  0.57  1.63   470.0       2\n",
              "172  14.16  2.51  2.48  20.0   91.0  ...  9.700000  0.62  1.71   660.0       2\n",
              "\n",
              "[173 rows x 14 columns]"
            ]
          },
          "metadata": {},
          "execution_count": 144
        }
      ],
      "source": [
        "#  Look at the values in y\n",
        "##TODO###\n",
        "import pandas as pd\n",
        "df = pd.DataFrame(X)\n",
        "df['output']=y\n",
        "df.head(-5)\n",
        "\n",
        "#Based on the output values we can say this is a classification problem as output is 3 distinct classes of wines."
      ]
    },
    {
      "cell_type": "markdown",
      "metadata": {
        "id": "wZz3xpnSWdo4"
      },
      "source": [
        "## Part b) Divide the data into training and testing sets\n",
        "Use the function `train_test_split` from `sklearn.model_selection` to split out the data and targets into training and testing sets."
      ]
    },
    {
      "cell_type": "code",
      "execution_count": 145,
      "metadata": {
        "id": "Hcxl-QwgWdo4"
      },
      "outputs": [],
      "source": [
        "# We import the function train_test_split from sklearn and use this to \n",
        "# split the data\n",
        "from sklearn.model_selection import train_test_split\n",
        "\n",
        "# The function returns splits of each array passed in. \n",
        "# The proportion to be used as the training set is given by test_size\n",
        "X_train, X_test, y_train, y_test = train_test_split(X, y, test_size=0.2)"
      ]
    },
    {
      "cell_type": "markdown",
      "metadata": {
        "id": "pbHpiU_JWdo5"
      },
      "source": [
        "## Part c) Import the k-nearest neighbours classifier and run it on the data\n",
        "Scikit-learn has a huge range of *estimators* that you can use with your dataset. An estimator is any procedure that can be used to fit data and make predictions from it. Here we will import the k-nearest neighbours classifier, instantiate it, run it on our training set, and then use it to generate some predictions. You will learn more about k-nearest neighbours in Week 14. For now, we are simply using it to generate some predictions.\n",
        "\n",
        "The general procedure for using the estimators in scikit-learn is as follows. Every estimator has a method `fit(X, y)` and a method `predict(T)`. \n",
        "\n",
        "1) Import the estimator\n",
        "    e.g. `from sklearn.models import Classifier`\n",
        "    \n",
        "2) Instantiate the estimator to a variable\n",
        "    e.g. `est = Classifier(params)`\n",
        "    \n",
        "3) Fit the estimator to the data\n",
        "    e.g. `est.fit(X, y)`\n",
        "    \n",
        "4) Make a prediction\n",
        "    e.g. `predictions = est.predict(test_data)`\n",
        "    \n",
        "You can see an example of this in the code below:"
      ]
    },
    {
      "cell_type": "code",
      "execution_count": 146,
      "metadata": {
        "scrolled": true,
        "id": "P2IViCdEWdo6"
      },
      "outputs": [],
      "source": [
        "# We first import the classifier\n",
        "from sklearn.neighbors import KNeighborsClassifier\n",
        "\n",
        "# We instantiate the classifier with 5 neighbours\n",
        "knn = KNeighborsClassifier(n_neighbors=5)\n",
        "\n",
        "# We fit the model using our training data\n",
        "knn.fit(X_train, y_train)\n",
        "\n",
        "# Finally, we generate predictions on the test data\n",
        "ypred_test=knn.predict(X_test)"
      ]
    },
    {
      "cell_type": "markdown",
      "metadata": {
        "id": "C-mIDUBJWdo6"
      },
      "source": [
        "## Part d) Evaluating the classifier\n",
        "In this section we will implement functions for accuracy, precision and recall, and compare them with the functions given in sklearn (they should give the same results!)\n",
        "\n",
        "The wine dataset has 3 classes. We will write functions to compute the accuracy of the classifer, the macro-averaged precision and the macro-averaged recall.\n",
        "\n",
        "Recall the equations for accuracy, precision, and recall:\n",
        "\n",
        "$$Accuracy = \\frac{\\sum_{i = 1}^n 1(y_i = f(x_i))}{n}$$\n",
        "i.e. the number of correctly classified datapoints as a proportion of all $n$ datapoints\n",
        "\n",
        "$$Precision_c = \\frac{TP_c}{TP_c+FP_c}$$\n",
        "i.e. the precision for class $c$ is the number of true positives for class $c$ as a proportion of the total number of positive predictions for class $c$\n",
        "\n",
        "$$Recall_c = \\frac{TP_c}{TP_c+FN_c}$$\n",
        "i.e. the recall for class $c$ is the number of true positives for class $c$ as a proportion of the total number of actual positives for class $c$\n",
        "\n",
        "The macro-averaged precision and macro-averaged recall are then simply calculated by averaging the precision (or recall) for each class:\n",
        "\n",
        "$$Precision = \\frac{1}{k} \\sum_{i = 1}^k Precision_k, \\quad Recall = \\frac{1}{k} \\sum_{i = 1}^k Recall_k$$\n",
        "\n",
        "We can automatically generate the confusion matrix for our data using the function `confusion_matrix` from `sklearn.metrics`"
      ]
    },
    {
      "cell_type": "code",
      "execution_count": 147,
      "metadata": {
        "id": "RmTR36MfWdo7"
      },
      "outputs": [],
      "source": [
        "# Import the function confusion_matrix\n",
        "from sklearn.metrics import confusion_matrix\n",
        "\n",
        "# Build the confusion matrix from the target test set y_test \n",
        "# and our predicted values ypred_test\n",
        "cm = confusion_matrix(y_test, ypred_test)"
      ]
    },
    {
      "cell_type": "markdown",
      "metadata": {
        "id": "-qQ4QW59Wdo7"
      },
      "source": [
        "Take a look at the confusion matrix. What should its dimensions be? "
      ]
    },
    {
      "cell_type": "code",
      "execution_count": 148,
      "metadata": {
        "colab": {
          "base_uri": "https://localhost:8080/"
        },
        "id": "XINf-MbNWdo8",
        "outputId": "f34b6503-d892-453f-a6a0-38bc0dcf01cb"
      },
      "outputs": [
        {
          "output_type": "stream",
          "name": "stdout",
          "text": [
            "[[12  0  1]\n",
            " [ 4 10  6]\n",
            " [ 0  1  2]]\n"
          ]
        }
      ],
      "source": [
        "# Look at the confusion matrix cm\n",
        "##TODO###\n",
        "print(cm)\n"
      ]
    },
    {
      "cell_type": "markdown",
      "metadata": {
        "id": "1rhToGzIWdo8"
      },
      "source": [
        "Write a function `my_accuracy` that takes in two arrays `y` for target values and `pred` for predicted  values, and returns accuracy."
      ]
    },
    {
      "cell_type": "code",
      "execution_count": 149,
      "metadata": {
        "id": "FMhvHe_8Wdo8"
      },
      "outputs": [],
      "source": [
        "def my_accuracy(y, pred):\n",
        "    acc=0\n",
        "    elem=len(y)\n",
        "    for i in range(elem):\n",
        "      if y[i]==pred[i]:\n",
        "        acc+=1\n",
        "    return acc/elem"
      ]
    },
    {
      "cell_type": "markdown",
      "metadata": {
        "id": "xlpv6QUbWdo8"
      },
      "source": [
        "Write a function `my_recall_macro` that takes in two arrays `y` for target values and `pred` for predicted  values, and returns recall. "
      ]
    },
    {
      "cell_type": "code",
      "execution_count": 150,
      "metadata": {
        "id": "OTY6hpcaWdo9"
      },
      "outputs": [],
      "source": [
        "def my_recall_macro(y, pred):\n",
        "    recall = 0\n",
        "    cm = confusion_matrix(y, pred)\n",
        "    ##TODO###\n",
        "    no_class = len(cm)\n",
        "    for i in range(no_class):\n",
        "      recall=recall+(cm[i,i]/cm[i,:].sum())\n",
        "    return recall/no_class      "
      ]
    },
    {
      "cell_type": "markdown",
      "metadata": {
        "id": "2SkOJZAEWdo9"
      },
      "source": [
        "Write a function `my_precision_macro` that takes in two arrays `y` for target values and `pred` for predicted  values, and returns precision. "
      ]
    },
    {
      "cell_type": "code",
      "execution_count": 151,
      "metadata": {
        "id": "eE_6VL0-Wdo9"
      },
      "outputs": [],
      "source": [
        "def my_precision_macro(y, pred):\n",
        "    prec = 0\n",
        "    cm = confusion_matrix(y, pred)\n",
        "    ##TODO###\n",
        "    no_class = len(cm)\n",
        "    for i in range(no_class):\n",
        "      prec=prec+(cm[i,i]/cm[:,i].sum())\n",
        "    return prec/no_class   "
      ]
    },
    {
      "cell_type": "markdown",
      "metadata": {
        "id": "ZprBMwvUWdo9"
      },
      "source": [
        "Check that your functions match those in sklearn."
      ]
    },
    {
      "cell_type": "code",
      "execution_count": 152,
      "metadata": {
        "colab": {
          "base_uri": "https://localhost:8080/"
        },
        "id": "F6onwjTFWdo9",
        "outputId": "d013d768-2a89-4c9b-db1a-cfb8b8d293ee"
      },
      "outputs": [
        {
          "output_type": "execute_result",
          "data": {
            "text/plain": [
              "True"
            ]
          },
          "metadata": {},
          "execution_count": 152
        }
      ],
      "source": [
        "from sklearn.metrics import precision_score, recall_score, accuracy_score\n",
        "my_accuracy(y_test, ypred_test) == accuracy_score(y_test, ypred_test)"
      ]
    },
    {
      "cell_type": "code",
      "execution_count": 153,
      "metadata": {
        "colab": {
          "base_uri": "https://localhost:8080/"
        },
        "id": "toHP146pWdo-",
        "outputId": "598297f0-723c-43fc-bb5a-860231ad3e3a"
      },
      "outputs": [
        {
          "output_type": "execute_result",
          "data": {
            "text/plain": [
              "True"
            ]
          },
          "metadata": {},
          "execution_count": 153
        }
      ],
      "source": [
        "my_recall_macro(y_test, ypred_test)== \\\n",
        "    recall_score(y_test, ypred_test, average='macro')"
      ]
    },
    {
      "cell_type": "code",
      "execution_count": 154,
      "metadata": {
        "colab": {
          "base_uri": "https://localhost:8080/"
        },
        "id": "iZtuRebAWdo-",
        "outputId": "abe96667-8d96-478a-ab12-1a0438bd2668"
      },
      "outputs": [
        {
          "output_type": "execute_result",
          "data": {
            "text/plain": [
              "True"
            ]
          },
          "metadata": {},
          "execution_count": 154
        }
      ],
      "source": [
        "my_precision_macro(y_test, ypred_test)== \\\n",
        "    precision_score(y_test, ypred_test, average='macro')"
      ]
    },
    {
      "cell_type": "markdown",
      "metadata": {
        "id": "110FElr3Wdo-"
      },
      "source": [
        "# 2. Regression\n",
        "\n",
        "In this question we will use sklearn to fit a linear model to some artificial data. You will then implement a function to calculate the mean squared error and a function to calculate $r^2$.\n",
        "\n",
        "## Part a) Create an artificial dataset\n",
        "We start off by creating some artificial data.    "
      ]
    },
    {
      "cell_type": "code",
      "execution_count": 155,
      "metadata": {
        "id": "FhWv5Y_7Wdo-"
      },
      "outputs": [],
      "source": [
        "# We set up a random number generator (rng), seeded with a number \n",
        "# (in this case 10). Using a seed means we can generate the same \n",
        "# sequence of pseudorandom numbers, and so we can check results easily.\n",
        "rng = np.random.default_rng(10) \n",
        "\n",
        "# a and b are coefficients for the line\n",
        "a = 2\n",
        "b = -1\n",
        "\n",
        "# Use np.linspace to generate datapoints from 0 to 10 spaced at 0.1\n",
        "X = np.linspace(0, 10, 101) \n",
        "\n",
        "# Create data Y using the equation for a line\n",
        "Y = a*X + b\n",
        "\n",
        "# Adds Gaussian noise with mean 0 and standard deviation 3 to the data\n",
        "Y = Y + 3*rng.standard_normal(len(Y)) "
      ]
    },
    {
      "cell_type": "markdown",
      "metadata": {
        "id": "zGLTzcQrWdo_"
      },
      "source": [
        "## Part b) Plot the data on named axes"
      ]
    },
    {
      "cell_type": "code",
      "execution_count": 156,
      "metadata": {
        "colab": {
          "base_uri": "https://localhost:8080/",
          "height": 299
        },
        "id": "6pH2du_EWdo_",
        "outputId": "e370d6e8-5cd6-4f10-f4ea-e669f24ba7c4"
      },
      "outputs": [
        {
          "output_type": "execute_result",
          "data": {
            "text/plain": [
              "Text(0, 0.5, 'y')"
            ]
          },
          "metadata": {},
          "execution_count": 156
        },
        {
          "output_type": "display_data",
          "data": {
            "image/png": "[encoded data removed]",
            "text/plain": [
              "<Figure size 432x288 with 1 Axes>"
            ]
          },
          "metadata": {
            "needs_background": "light"
          }
        }
      ],
      "source": [
        "fig, ax = plt.subplots() # Generates a named figure (fig) and axes (ax)\n",
        "ax.scatter(X, Y, label = 'Data') # Scatterplot of the data on the ax.\n",
        "plt.xlabel('x')\n",
        "plt.ylabel('y')"
      ]
    },
    {
      "cell_type": "markdown",
      "metadata": {
        "id": "CfwaFCw_Wdo_"
      },
      "source": [
        "## Part c) Split the data into training and testing sets\n",
        "Split the data X and targets Y into training and testing sets using the function `train_test_split`. Set the proportion of the dataset to use as test data to 0.1."
      ]
    },
    {
      "cell_type": "code",
      "execution_count": 157,
      "metadata": {
        "id": "6ejA-8G9Wdo_"
      },
      "outputs": [],
      "source": [
        "# Write your answer here\n",
        "##TODO###\n",
        "from sklearn.model_selection import train_test_split\n",
        "\n",
        "X_train, X_test, y_train, y_test = train_test_split(X, Y, test_size=0.1)"
      ]
    },
    {
      "cell_type": "markdown",
      "metadata": {
        "id": "hC3pYediWdo_"
      },
      "source": [
        "## Part d) Instantiate and fit the estimator\n",
        "Import the estimator `LinearRegression` from `sklearn.linear_model` and instantiate it. No parameters are needed."
      ]
    },
    {
      "cell_type": "code",
      "execution_count": 158,
      "metadata": {
        "id": "PytNQUzuWdo_"
      },
      "outputs": [],
      "source": [
        "# Write your answer here\n",
        "##TODO###\n",
        "from sklearn.linear_model import LinearRegression\n",
        "\n",
        "lrn = LinearRegression()\n"
      ]
    },
    {
      "cell_type": "markdown",
      "metadata": {
        "id": "YdOFQXMNWdo_"
      },
      "source": [
        "You will need to reshape the data (but not the targets) before passing it to this model. "
      ]
    },
    {
      "cell_type": "code",
      "execution_count": 159,
      "metadata": {
        "id": "FGzWx8SFWdpA"
      },
      "outputs": [],
      "source": [
        "# This reshapes the data to have 1 column and however many rows make \n",
        "# sense for the data\n",
        "X_train = X_train.reshape(-1, 1)\n"
      ]
    },
    {
      "cell_type": "markdown",
      "metadata": {
        "id": "gJsotIciWdpA"
      },
      "source": [
        "Call the method `fit` with your training data to train the model"
      ]
    },
    {
      "cell_type": "code",
      "execution_count": 160,
      "metadata": {
        "id": "14wyPOU6WdpA"
      },
      "outputs": [],
      "source": [
        "# Write your answer here\n",
        "##TODO###\n",
        "reg = lrn.fit(X_train,y_train)\n"
      ]
    },
    {
      "cell_type": "markdown",
      "metadata": {
        "id": "_lwxJ7pYWdpA"
      },
      "source": [
        "The coefficient(s) and intercept for the trained model are called `coef_` and `intercept_`. Are these what you would expect? Are they similar to the values of `a` and `b` that we used to generate the data?"
      ]
    },
    {
      "cell_type": "code",
      "execution_count": 161,
      "metadata": {
        "colab": {
          "base_uri": "https://localhost:8080/"
        },
        "id": "W1K5v5lDWdpA",
        "outputId": "b32b4b72-3811-468f-939d-c0c331dfd420"
      },
      "outputs": [
        {
          "output_type": "stream",
          "name": "stdout",
          "text": [
            "a=  [2.13417056]  b=  -2.2963830369670273\n"
          ]
        }
      ],
      "source": [
        "# Look at coef_ and intercept_\n",
        "##TODO###\n",
        "print(\"a= \", reg.coef_,\" b= \", reg.intercept_)\n"
      ]
    },
    {
      "cell_type": "markdown",
      "metadata": {
        "id": "CWuXzvjFWdpA"
      },
      "source": [
        "Using the values stored in `coef_` and `intercept_`, plot a line representing the fitted model on the same axes (`ax`) as before. Type `fig` to view the plot."
      ]
    },
    {
      "cell_type": "code",
      "execution_count": 162,
      "metadata": {
        "colab": {
          "base_uri": "https://localhost:8080/",
          "height": 299
        },
        "id": "7rpK-htRWdpB",
        "outputId": "0790c537-8b70-4e13-9ea7-5762118ea947"
      },
      "outputs": [
        {
          "output_type": "execute_result",
          "data": {
            "text/plain": [
              "Text(0, 0.5, 'y')"
            ]
          },
          "metadata": {},
          "execution_count": 162
        },
        {
          "output_type": "display_data",
          "data": {
            "image/png": "[encoded data removed]",
            "text/plain": [
              "<Figure size 432x288 with 1 Axes>"
            ]
          },
          "metadata": {
            "needs_background": "light"
          }
        }
      ],
      "source": [
        "# Write your answer here \n",
        "##TODO###\n",
        "\n",
        "fig\n",
        "\n",
        "y_ = reg.coef_*X+reg.intercept_\n",
        "fig, ax = plt.subplots() # Generates a named figure (fig) and axes (ax)\n",
        "ax.plot(X,y_, label = 'Data') # Scatterplot of the data on the ax.\n",
        "ax.scatter(X,Y, label = 'Data')\n",
        "plt.xlabel('x')\n",
        "plt.ylabel('y')"
      ]
    },
    {
      "cell_type": "markdown",
      "metadata": {
        "id": "mlXP53aCWdpB"
      },
      "source": [
        "Reshape the test data to have one column and then call `predict` on the regression model to get the predicted y values"
      ]
    },
    {
      "cell_type": "code",
      "execution_count": 163,
      "metadata": {
        "id": "4q-VIkdZWdpB"
      },
      "outputs": [],
      "source": [
        "X_test = X_test.reshape(-1, 1)\n",
        "# Call predict on the regression model and assign the output to \n",
        "# a variable ypred\n",
        "##TODO###\n",
        "ypred_test = lrn.predict(X_test)"
      ]
    },
    {
      "cell_type": "markdown",
      "metadata": {
        "id": "IpDgXLdCWdpB"
      },
      "source": [
        "## Part e) Calculating mean squared error\n",
        "The equation for the mean squared error is \n",
        "$$ MSE = \\frac{\\sum_{i = 1}^n (y_i - f(\\vec{x}_i))^2}{n} $$\n",
        "Write a function that takes in arrays for the target values `y` and the predicted values `pred` and returns the mean squared error."
      ]
    },
    {
      "cell_type": "code",
      "execution_count": 164,
      "metadata": {
        "id": "DDiGIefCWdpB"
      },
      "outputs": [],
      "source": [
        "# Fill in the body of the function\n",
        "def MSE(y, pred):\n",
        "  diffs=y-pred\n",
        "  sse = (diffs**2).sum()\n",
        "  mse=sse/len(y)\n",
        "  return mse"
      ]
    },
    {
      "cell_type": "markdown",
      "metadata": {
        "id": "C6lraiZZWdpB"
      },
      "source": [
        "Check your function against the function `mean_squared_error` from `sklearn.metrics`"
      ]
    },
    {
      "cell_type": "code",
      "execution_count": 165,
      "metadata": {
        "colab": {
          "base_uri": "https://localhost:8080/"
        },
        "id": "nn8DcUYcWdpB",
        "outputId": "7f68ff52-04e6-471b-a8e8-63c553caf45f"
      },
      "outputs": [
        {
          "output_type": "execute_result",
          "data": {
            "text/plain": [
              "True"
            ]
          },
          "metadata": {},
          "execution_count": 165
        }
      ],
      "source": [
        "# Write your answer here\n",
        "##TODO###\n",
        "from sklearn.metrics import mean_squared_error\n",
        "\n",
        "MSE(y_test, ypred_test)== mean_squared_error(y_test, ypred_test)"
      ]
    },
    {
      "cell_type": "markdown",
      "metadata": {
        "id": "uU57LvHoWdpC"
      },
      "source": [
        "## Part f) Calculating R^2\n",
        "Recall from the lecture that $R^2$ is defined as\n",
        "\n",
        "$$R^2(y, \\hat{y})) = 1 - \\frac{\\sum_{i=1}^{n} (y_i - \\hat{y}_i)^2}{\\sum_{i=1}^{n} (y_i - \\bar{y})^2}$$\n",
        "\n",
        "This represents the proportion of the variance of y that is explained by the independent variables in the model. It is essentially a comparison of the fitted model with the mean of the target values ($\\bar{y}$). Implement your own function to calculate $R^2$ and then compare it with `r2_score` from `sklearn.metrics`"
      ]
    },
    {
      "cell_type": "code",
      "execution_count": 166,
      "metadata": {
        "id": "oK8aQsyaWdpC"
      },
      "outputs": [],
      "source": [
        "# Fill in the body of the function\n",
        "import numpy as np\n",
        "def rsq(y, pred):\n",
        "  sse = ((y-pred)**2).sum()\n",
        "  m = ((y-np.mean(y))**2).sum()\n",
        "  return 1-sse/m"
      ]
    },
    {
      "cell_type": "code",
      "execution_count": 167,
      "metadata": {
        "colab": {
          "base_uri": "https://localhost:8080/"
        },
        "id": "OQZU5BHcWdpC",
        "outputId": "a97601de-59fb-49a5-998b-f686706bbc08"
      },
      "outputs": [
        {
          "output_type": "execute_result",
          "data": {
            "text/plain": [
              "True"
            ]
          },
          "metadata": {},
          "execution_count": 167
        }
      ],
      "source": [
        "# Compare with sklearn.metrics.r2_score\n",
        "##TODO###\n",
        "from sklearn.metrics import r2_score\n",
        "rsq(y_test, ypred_test)== r2_score(y_test, ypred_test)"
      ]
    },
    {
      "cell_type": "markdown",
      "metadata": {
        "id": "fZW7X5b6WdpC"
      },
      "source": [
        "# 3. Using cross-validation for model selection\n",
        "\n",
        "In this section we will fit a series of classifiers with different parameter settings, and use k-fold cross validation to select the most appropriate parameter values. We will use a *decision tree* classifier. We will cover this classifier in more detail in future lectures. For now, all you need to know is that a decision tree has a parameter `max_depth` that says how many layers the tree may have. More layers means that the tree can divide up the feature space into finer classes, but this could come at the expense of overfitting."
      ]
    },
    {
      "cell_type": "markdown",
      "metadata": {
        "id": "mo0JukA0WdpC"
      },
      "source": [
        "## Part a) Creating an artificial dataset\n",
        "We first of all create an artificial dataset with 2000 samples, 10 features, and 4 classes."
      ]
    },
    {
      "cell_type": "code",
      "execution_count": 168,
      "metadata": {
        "id": "06XEXjRRWdpD"
      },
      "outputs": [],
      "source": [
        "from sklearn.datasets import make_classification\n",
        "X, y = make_classification(n_samples = 2000, n_features = 10, \\\n",
        "                           n_classes=4, n_informative = 3, random_state=10)"
      ]
    },
    {
      "cell_type": "markdown",
      "metadata": {
        "id": "qe1aM4l0WdpD"
      },
      "source": [
        "Use the function `train_test_split` to separate out 0.2 of your dataset. This will be kept aside as our held-out test set."
      ]
    },
    {
      "cell_type": "code",
      "execution_count": 169,
      "metadata": {
        "id": "JcTabH8wWdpD"
      },
      "outputs": [],
      "source": [
        "# Write your answer here. \n",
        "# Assign the splits to variables Xtr, Xtest, ytr, ytest\n",
        "# Xtr, Xtest, ytr, ytest = ###TODO###\n",
        "from sklearn.model_selection import train_test_split\n",
        "\n",
        "# The function returns splits of each array passed in. \n",
        "# The proportion to be used as the training set is given by test_size\n",
        "Xtr, Xtest, ytr, ytest = train_test_split(X, y, test_size=0.2)"
      ]
    },
    {
      "cell_type": "markdown",
      "metadata": {
        "id": "XY5eX4axWdpD"
      },
      "source": [
        "## Part b) Setting up k-fold cross validation\n",
        "We import the function `KFold` from `sklearn.model_selection`, and instantiate it with 10 folds."
      ]
    },
    {
      "cell_type": "code",
      "execution_count": 170,
      "metadata": {
        "id": "uiHtlNhFWdpD"
      },
      "outputs": [],
      "source": [
        "from sklearn.model_selection import KFold\n",
        "kf = KFold(n_splits=10, random_state=63, shuffle=True)"
      ]
    },
    {
      "cell_type": "markdown",
      "metadata": {
        "id": "vZHUWSzGWdpD"
      },
      "source": [
        "## Part c) Running cross-validation for different parameter settings\n",
        "We import the decision tree classifier and run it over depths from 1 to `max_d`. For each depth we run cross-validation over the training set. Write the missing code in the cell below."
      ]
    },
    {
      "cell_type": "code",
      "execution_count": 171,
      "metadata": {
        "id": "hte4umipWdpE"
      },
      "outputs": [],
      "source": [
        "from sklearn.tree import DecisionTreeClassifier\n",
        "max_d = 20\n",
        "#Set up variables to store training and validation accuracies. \n",
        "train_accuracies = [[] for _ in range(max_d)]\n",
        "val_accuracies = [[] for _ in range(max_d)]\n",
        "\n",
        "# Loop over depths\n",
        "for d in range(max_d):\n",
        "    #Instantiate the DecisionTreeClassifier here. \n",
        "    #Set the parameter max_depth to d+1\n",
        "    #We add 1 because d ranges from 0 to max_d-1, \n",
        "    #but we want depths from 1 to max_d\n",
        "    ###TODO###\n",
        "    dtc = DecisionTreeClassifier(max_depth=d+1)\n",
        "    #Loop over cross-validation splits. \n",
        "    #Note that we perform cross validation on our training data Xtr.\n",
        "    #We keep our testing data Xtest aside\n",
        "    for train_index, val_index in kf.split(Xtr):\n",
        "        Xtrain, Xval = Xtr[train_index], Xtr[val_index]\n",
        "        ytrain, yval = ytr[train_index], ytr[val_index]\n",
        "        \n",
        "        #Fit the classifier on Xtrain and Ytrain\n",
        "        ###TODO###\n",
        "        dtc_fit=dtc.fit(Xtrain,ytrain)\n",
        "        #Make predictions on Xtrain and assign to a variable pred_train\n",
        "        ###TODO###\n",
        "        pred_train = dtc.predict(Xtrain)\n",
        "        #Make predictions on Xval and assign to a variable pred_val\n",
        "        ###TODO###\n",
        "        pred_val = dtc.predict(Xval)\n",
        "        #Calculate the accuracy of the predictions on the training set \n",
        "        #and save in the variable train_accuracies\n",
        "        train_accuracies[d].append(accuracy_score(ytrain, pred_train))\n",
        "        \n",
        "        #Do the same for the predictions on the validation set\n",
        "        ###TODO###\n",
        "        val_accuracies[d].append(accuracy_score(yval,pred_val))\n",
        "#Calculate the mean and standard deviation for training \n",
        "#and validation accuracies for each depth across splits \n",
        "train_accuracy_mean = np.mean(train_accuracies, axis=1)\n",
        "# Complete the lines and uncomment\n",
        "train_accuracy_stdev = np.std(train_accuracies, axis=1)\n",
        "val_accuracy_mean = np.mean(val_accuracies, axis=1)\n",
        "val_accuracy_stdev = np.std(val_accuracies, axis=1)\n",
        "\n",
        "# The arrays of means and standard deviation should have shape (max_d, ). \n",
        "# The following will generate an error if not.\n",
        "assert(np.shape(train_accuracy_mean)==(max_d,))\n",
        "assert(np.shape(train_accuracy_stdev)==(max_d,))\n",
        "assert(np.shape(val_accuracy_mean)==(max_d,))\n",
        "assert(np.shape(val_accuracy_stdev)==(max_d,))"
      ]
    },
    {
      "cell_type": "markdown",
      "metadata": {
        "id": "3HN0HhkJWdpE"
      },
      "source": [
        "## Plotting results\n",
        "\n",
        "Plot the mean accuracy attained on the training set and on the validation set at each depth. Your figure should look something like the following:\n",
        "\n",
        "![image-2.png](attachment:image-2.png)\n",
        "\n",
        "What do you notice about these results? Which value of max_depth would you use for your held-out test set?"
      ]
    },
    {
      "cell_type": "code",
      "execution_count": 172,
      "metadata": {
        "colab": {
          "base_uri": "https://localhost:8080/",
          "height": 296
        },
        "id": "K9Ry6qF_WdpE",
        "outputId": "5c8e94b4-7e66-46be-b030-90d541139ee5"
      },
      "outputs": [
        {
          "output_type": "execute_result",
          "data": {
            "text/plain": [
              "<matplotlib.legend.Legend at 0x7faedac4a810>"
            ]
          },
          "metadata": {},
          "execution_count": 172
        },
        {
          "output_type": "display_data",
          "data": {
            "image/png": "[encoded data removed]",
            "text/plain": [
              "<Figure size 432x288 with 1 Axes>"
            ]
          },
          "metadata": {
            "needs_background": "light"
          }
        }
      ],
      "source": [
        "# Write code to plot your results here\n",
        "fig2=plt.figure()\n",
        "x = list(range(1,max_d+1))\n",
        "plt.plot(x,train_accuracy_mean, label = 'Training Accuracy')\n",
        "plt.plot(x,val_accuracy_mean, label = 'Validation Accuracy')\n",
        "plt.xlabel('Tree depth')\n",
        "plt.xticks(x)\n",
        "plt.legend()"
      ]
    },
    {
      "cell_type": "markdown",
      "metadata": {
        "id": "ZzYKRRmtWdpE"
      },
      "source": [
        "## Computing accuracy on the test set\n",
        "Based on your plotted results, decide on the best value of `max_depth` to use in your decision tree classifier. Instantiate a new classifier with your chosen value. Fit the model on the training data. Make a prediction on the held-out test data, and calculate the accuracy on the test data. Is the accuracy what you expected? If not, why not?\n"
      ]
    },
    {
      "cell_type": "code",
      "execution_count": 173,
      "metadata": {
        "colab": {
          "base_uri": "https://localhost:8080/"
        },
        "id": "z6atI-CMWdpE",
        "outputId": "b0beaca0-828a-4eb9-ee57-de6e92d181e4"
      },
      "outputs": [
        {
          "output_type": "execute_result",
          "data": {
            "text/plain": [
              "0.7825"
            ]
          },
          "metadata": {},
          "execution_count": 173
        }
      ],
      "source": [
        "#Instantiate a new classifier with your chosen value of max_depth\n",
        "clf = DecisionTreeClassifier(max_depth=5)\n",
        "#Fit the classifier on the training data\n",
        "clf.fit(Xtr, ytr)\n",
        "\n",
        "#Make a prediction on the test data\n",
        "pred_test = clf.predict(Xtest)\n",
        "\n",
        "#Calculate the accuracy on the test data\n",
        "accuracy_score(ytest, pred_test)"
      ]
    }
  ],
  "metadata": {
    "kernelspec": {
      "display_name": "Python 3",
      "language": "python",
      "name": "python3"
    },
    "language_info": {
      "codemirror_mode": {
        "name": "ipython",
        "version": 3
      },
      "file_extension": ".py",
      "mimetype": "text/x-python",
      "name": "python",
      "nbconvert_exporter": "python",
      "pygments_lexer": "ipython3",
      "version": "3.9.1"
    },
    "colab": {
      "name": "Worksheet 1 Week 13.ipynb",
      "provenance": [],
      "include_colab_link": true
    }
  },
  "nbformat": 4,
  "nbformat_minor": 0
}